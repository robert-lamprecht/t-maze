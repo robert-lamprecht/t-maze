{
 "cells": [
  {
   "cell_type": "code",
   "execution_count": 1,
   "metadata": {},
   "outputs": [],
   "source": [
    "import numpy as np\n",
    "import matplotlib.pyplot as plt\n",
    "import pandas as pd"
   ]
  },
  {
   "cell_type": "code",
   "execution_count": 3,
   "metadata": {},
   "outputs": [],
   "source": [
    "origFile = pd.read_json(r\"C:\\Users\\custe\\Emory\\SOM Emanuel Lab - General\\TMAZE\\TMAZE_DATA\\data_BEB3_20240717_113535.json\")"
   ]
  },
  {
   "cell_type": "code",
   "execution_count": 4,
   "metadata": {},
   "outputs": [],
   "source": [
    "righteye_filtered = np.array([np.arange(100),np.ones(100)]).T"
   ]
  },
  {
   "cell_type": "code",
   "execution_count": 5,
   "metadata": {},
   "outputs": [
    {
     "data": {
      "text/plain": [
       "[<matplotlib.lines.Line2D at 0x1cef2e64a10>]"
      ]
     },
     "execution_count": 5,
     "metadata": {},
     "output_type": "execute_result"
    },
    {
     "data": {
      "image/png": "[encoded data removed]",
      "text/plain": [
       "<Figure size 640x480 with 1 Axes>"
      ]
     },
     "metadata": {},
     "output_type": "display_data"
    }
   ],
   "source": [
    "plt.plot(righteye_filtered[:,0],righteye_filtered[:,1])"
   ]
  },
  {
   "cell_type": "code",
   "execution_count": 6,
   "metadata": {},
   "outputs": [
    {
     "data": {
      "text/plain": [
       "array([[ 0.,  1.],\n",
       "       [ 1.,  1.],\n",
       "       [ 2.,  1.],\n",
       "       [ 3.,  1.],\n",
       "       [ 4.,  1.],\n",
       "       [ 5.,  1.],\n",
       "       [ 6.,  1.],\n",
       "       [ 7.,  1.],\n",
       "       [ 8.,  1.],\n",
       "       [ 9.,  1.],\n",
       "       [10.,  1.],\n",
       "       [11.,  1.],\n",
       "       [12.,  1.],\n",
       "       [13.,  1.],\n",
       "       [14.,  1.],\n",
       "       [15.,  1.],\n",
       "       [16.,  1.],\n",
       "       [17.,  1.],\n",
       "       [18.,  1.],\n",
       "       [19.,  1.],\n",
       "       [20.,  1.],\n",
       "       [21.,  1.],\n",
       "       [22.,  1.],\n",
       "       [23.,  1.],\n",
       "       [24.,  1.],\n",
       "       [25.,  1.],\n",
       "       [26.,  1.],\n",
       "       [27.,  1.],\n",
       "       [28.,  1.],\n",
       "       [29.,  1.],\n",
       "       [30.,  1.],\n",
       "       [31.,  1.],\n",
       "       [32.,  1.],\n",
       "       [33.,  1.],\n",
       "       [34.,  1.],\n",
       "       [35.,  1.],\n",
       "       [36.,  1.],\n",
       "       [37.,  1.],\n",
       "       [38.,  1.],\n",
       "       [39.,  1.],\n",
       "       [40.,  1.],\n",
       "       [41.,  1.],\n",
       "       [42.,  1.],\n",
       "       [43.,  1.],\n",
       "       [44.,  1.],\n",
       "       [45.,  1.],\n",
       "       [46.,  1.],\n",
       "       [47.,  1.],\n",
       "       [48.,  1.],\n",
       "       [49.,  1.],\n",
       "       [50.,  1.],\n",
       "       [51.,  1.],\n",
       "       [52.,  1.],\n",
       "       [53.,  1.],\n",
       "       [54.,  1.],\n",
       "       [55.,  1.],\n",
       "       [56.,  1.],\n",
       "       [57.,  1.],\n",
       "       [58.,  1.],\n",
       "       [59.,  1.],\n",
       "       [60.,  1.],\n",
       "       [61.,  1.],\n",
       "       [62.,  1.],\n",
       "       [63.,  1.],\n",
       "       [64.,  1.],\n",
       "       [65.,  1.],\n",
       "       [66.,  1.],\n",
       "       [67.,  1.],\n",
       "       [68.,  1.],\n",
       "       [69.,  1.],\n",
       "       [70.,  1.],\n",
       "       [71.,  1.],\n",
       "       [72.,  1.],\n",
       "       [73.,  1.],\n",
       "       [74.,  1.],\n",
       "       [75.,  1.],\n",
       "       [76.,  1.],\n",
       "       [77.,  1.],\n",
       "       [78.,  1.],\n",
       "       [79.,  1.],\n",
       "       [80.,  1.],\n",
       "       [81.,  1.],\n",
       "       [82.,  1.],\n",
       "       [83.,  1.],\n",
       "       [84.,  1.],\n",
       "       [85.,  1.],\n",
       "       [86.,  1.],\n",
       "       [87.,  1.],\n",
       "       [88.,  1.],\n",
       "       [89.,  1.],\n",
       "       [90.,  1.],\n",
       "       [91.,  1.],\n",
       "       [92.,  1.],\n",
       "       [93.,  1.],\n",
       "       [94.,  1.],\n",
       "       [95.,  1.],\n",
       "       [96.,  1.],\n",
       "       [97.,  1.],\n",
       "       [98.,  1.],\n",
       "       [99.,  1.]])"
      ]
     },
     "execution_count": 6,
     "metadata": {},
     "output_type": "execute_result"
    }
   ],
   "source": [
    "righteye_filtered"
   ]
  },
  {
   "cell_type": "code",
   "execution_count": 8,
   "metadata": {},
   "outputs": [],
   "source": [
    "origFile['BEB3']['trial1']['righteye'] = righteye_filtered"
   ]
  },
  {
   "cell_type": "code",
   "execution_count": 10,
   "metadata": {},
   "outputs": [
    {
     "data": {
      "text/plain": [
       "array([[ 0.,  1.],\n",
       "       [ 1.,  1.],\n",
       "       [ 2.,  1.],\n",
       "       [ 3.,  1.],\n",
       "       [ 4.,  1.],\n",
       "       [ 5.,  1.],\n",
       "       [ 6.,  1.],\n",
       "       [ 7.,  1.],\n",
       "       [ 8.,  1.],\n",
       "       [ 9.,  1.],\n",
       "       [10.,  1.],\n",
       "       [11.,  1.],\n",
       "       [12.,  1.],\n",
       "       [13.,  1.],\n",
       "       [14.,  1.],\n",
       "       [15.,  1.],\n",
       "       [16.,  1.],\n",
       "       [17.,  1.],\n",
       "       [18.,  1.],\n",
       "       [19.,  1.],\n",
       "       [20.,  1.],\n",
       "       [21.,  1.],\n",
       "       [22.,  1.],\n",
       "       [23.,  1.],\n",
       "       [24.,  1.],\n",
       "       [25.,  1.],\n",
       "       [26.,  1.],\n",
       "       [27.,  1.],\n",
       "       [28.,  1.],\n",
       "       [29.,  1.],\n",
       "       [30.,  1.],\n",
       "       [31.,  1.],\n",
       "       [32.,  1.],\n",
       "       [33.,  1.],\n",
       "       [34.,  1.],\n",
       "       [35.,  1.],\n",
       "       [36.,  1.],\n",
       "       [37.,  1.],\n",
       "       [38.,  1.],\n",
       "       [39.,  1.],\n",
       "       [40.,  1.],\n",
       "       [41.,  1.],\n",
       "       [42.,  1.],\n",
       "       [43.,  1.],\n",
       "       [44.,  1.],\n",
       "       [45.,  1.],\n",
       "       [46.,  1.],\n",
       "       [47.,  1.],\n",
       "       [48.,  1.],\n",
       "       [49.,  1.],\n",
       "       [50.,  1.],\n",
       "       [51.,  1.],\n",
       "       [52.,  1.],\n",
       "       [53.,  1.],\n",
       "       [54.,  1.],\n",
       "       [55.,  1.],\n",
       "       [56.,  1.],\n",
       "       [57.,  1.],\n",
       "       [58.,  1.],\n",
       "       [59.,  1.],\n",
       "       [60.,  1.],\n",
       "       [61.,  1.],\n",
       "       [62.,  1.],\n",
       "       [63.,  1.],\n",
       "       [64.,  1.],\n",
       "       [65.,  1.],\n",
       "       [66.,  1.],\n",
       "       [67.,  1.],\n",
       "       [68.,  1.],\n",
       "       [69.,  1.],\n",
       "       [70.,  1.],\n",
       "       [71.,  1.],\n",
       "       [72.,  1.],\n",
       "       [73.,  1.],\n",
       "       [74.,  1.],\n",
       "       [75.,  1.],\n",
       "       [76.,  1.],\n",
       "       [77.,  1.],\n",
       "       [78.,  1.],\n",
       "       [79.,  1.],\n",
       "       [80.,  1.],\n",
       "       [81.,  1.],\n",
       "       [82.,  1.],\n",
       "       [83.,  1.],\n",
       "       [84.,  1.],\n",
       "       [85.,  1.],\n",
       "       [86.,  1.],\n",
       "       [87.,  1.],\n",
       "       [88.,  1.],\n",
       "       [89.,  1.],\n",
       "       [90.,  1.],\n",
       "       [91.,  1.],\n",
       "       [92.,  1.],\n",
       "       [93.,  1.],\n",
       "       [94.,  1.],\n",
       "       [95.,  1.],\n",
       "       [96.,  1.],\n",
       "       [97.,  1.],\n",
       "       [98.,  1.],\n",
       "       [99.,  1.]])"
      ]
     },
     "execution_count": 10,
     "metadata": {},
     "output_type": "execute_result"
    }
   ],
   "source": [
    "origFile['BEB3']['trial1']['righteye']"
   ]
  },
  {
   "cell_type": "code",
   "execution_count": 11,
   "metadata": {},
   "outputs": [],
   "source": [
    "# if np.random.binomial(1,rightProb):\n",
    "#     if np.random.binomial(1,0.5):\n",
    "#         floor = rightFloors[0]\n",
    "#         print('CorrectValve: right')\n",
    "#     else:\n",
    "#         floor = rightFloors[1]\n",
    "#         print('CorrectValve: right')\n",
    "# else:\n",
    "#     if np.random.binomial(1,0.5):\n",
    "#         floor = leftFloors[0]\n",
    "#         print('CorrectValve: left')\n",
    "#     else:\n",
    "#         floor = leftFloors[1]\n",
    "#         print('CorrectValve: left' )\n",
    "\n",
    "test = []\n",
    "for i in range(10000):\n",
    "    test.append(np.random.randint(0,23))"
   ]
  },
  {
   "cell_type": "code",
   "execution_count": 12,
   "metadata": {},
   "outputs": [
    {
     "data": {
      "text/plain": [
       "(array([452.,   0.,   0.,   0., 409.,   0.,   0.,   0.,   0., 451.,   0.,\n",
       "          0.,   0., 402.,   0.,   0.,   0.,   0., 446.,   0.,   0.,   0.,\n",
       "        449.,   0.,   0.,   0.,   0., 409.,   0.,   0.,   0., 427.,   0.,\n",
       "          0.,   0.,   0., 471.,   0.,   0.,   0., 412.,   0.,   0.,   0.,\n",
       "          0., 458.,   0.,   0.,   0.,   0., 443.,   0.,   0.,   0., 452.,\n",
       "          0.,   0.,   0.,   0., 439.,   0.,   0.,   0., 452.,   0.,   0.,\n",
       "          0.,   0., 403.,   0.,   0.,   0., 423.,   0.,   0.,   0.,   0.,\n",
       "        463.,   0.,   0.,   0., 452.,   0.,   0.,   0.,   0., 402.,   0.,\n",
       "          0.,   0., 429.,   0.,   0.,   0.,   0., 432.,   0.,   0.,   0.,\n",
       "        424.]),\n",
       " array([ 0.  ,  0.22,  0.44,  0.66,  0.88,  1.1 ,  1.32,  1.54,  1.76,\n",
       "         1.98,  2.2 ,  2.42,  2.64,  2.86,  3.08,  3.3 ,  3.52,  3.74,\n",
       "         3.96,  4.18,  4.4 ,  4.62,  4.84,  5.06,  5.28,  5.5 ,  5.72,\n",
       "         5.94,  6.16,  6.38,  6.6 ,  6.82,  7.04,  7.26,  7.48,  7.7 ,\n",
       "         7.92,  8.14,  8.36,  8.58,  8.8 ,  9.02,  9.24,  9.46,  9.68,\n",
       "         9.9 , 10.12, 10.34, 10.56, 10.78, 11.  , 11.22, 11.44, 11.66,\n",
       "        11.88, 12.1 , 12.32, 12.54, 12.76, 12.98, 13.2 , 13.42, 13.64,\n",
       "        13.86, 14.08, 14.3 , 14.52, 14.74, 14.96, 15.18, 15.4 , 15.62,\n",
       "        15.84, 16.06, 16.28, 16.5 , 16.72, 16.94, 17.16, 17.38, 17.6 ,\n",
       "        17.82, 18.04, 18.26, 18.48, 18.7 , 18.92, 19.14, 19.36, 19.58,\n",
       "        19.8 , 20.02, 20.24, 20.46, 20.68, 20.9 , 21.12, 21.34, 21.56,\n",
       "        21.78, 22.  ]),\n",
       " <BarContainer object of 100 artists>)"
      ]
     },
     "execution_count": 12,
     "metadata": {},
     "output_type": "execute_result"
    },
    {
     "data": {
      "image/png": "[encoded data removed]",
      "text/plain": [
       "<Figure size 640x480 with 1 Axes>"
      ]
     },
     "metadata": {},
     "output_type": "display_data"
    }
   ],
   "source": [
    "plt.hist(test,bins=100)"
   ]
  },
  {
   "cell_type": "code",
   "execution_count": null,
   "metadata": {},
   "outputs": [],
   "source": []
  }
 ],
 "metadata": {
  "kernelspec": {
   "display_name": "base",
   "language": "python",
   "name": "python3"
  },
  "language_info": {
   "codemirror_mode": {
    "name": "ipython",
    "version": 3
   },
   "file_extension": ".py",
   "mimetype": "text/x-python",
   "name": "python",
   "nbconvert_exporter": "python",
   "pygments_lexer": "ipython3",
   "version": "3.11.9"
  }
 },
 "nbformat": 4,
 "nbformat_minor": 2
}

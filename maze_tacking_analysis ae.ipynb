{
 "cells": [
  {
   "cell_type": "code",
   "execution_count": 1,
   "metadata": {},
   "outputs": [],
   "source": [
    "import pandas as pd\n",
    "import numpy as np\n",
    "from scipy.signal import savgol_filter\n",
    "import matplotlib.pyplot as plt\n",
    "from matplotlib.widgets import RectangleSelector\n",
    "import matplotlib.patches as patches\n",
    "from collections import Counter\n",
    "import cv2\n"
   ]
  },
  {
   "cell_type": "code",
   "execution_count": null,
   "metadata": {},
   "outputs": [],
   "source": [
    "df = pd.read_csv(r\"C:\\Users\\custe\\Emory\\SOM Emanuel Lab - General\\TMAZE\\TMAZE_REFINED_VIDEOS\\BDC32024-01-25T17_15_36DLC_resnet50_TMAZE DLC model May14shuffle1_300000_filtered.csv\", header=[1, 2])\n",
    "print(df.columns)"
   ]
  },
  {
   "cell_type": "markdown",
   "metadata": {},
   "source": [
    "Create a dictionary to map body part names to coordinate columns"
   ]
  },
  {
   "cell_type": "code",
   "execution_count": null,
   "metadata": {},
   "outputs": [],
   "source": [
    "body_part_data = {}\n",
    "unique_body_parts = df.columns.get_level_values(0).unique().tolist() \n",
    "unique_body_parts.remove('bodyparts')\n",
    "#df.clumns  retrieves all the columns from the excell sheet \n",
    "#get_level_values(0) --> the \"0\" means that it is only retriving the first level of the data which is the list of body parts \n",
    "#             (First level)     (second level)\n",
    "# \"MultiIndex([('bodyparts',     'coords'), --> first level is \n",
    " #           ( 'righteye',          'x'),\n",
    "  #          ( 'righteye',          'y'),\n",
    "   #         ( 'righteye', 'likelihood'),\n",
    "    #        (  'lefteye',          'x'),\n",
    "     #       (  'lefteye',          'y'),\n",
    "      #      (  'lefteye', 'likelihood'),\n",
    "       #     ( 'tailbase',          'x'),\n",
    "        #    ( 'tailbase',          'y'),\n",
    "         #   ( 'tailbase', 'likelihood')],\"\n",
    "         #--> unique_body_parts = ['righteye','lefteye','tailbase']\n",
    "for part in unique_body_parts:\n",
    "    body_part_data[part] = {\n",
    "        \"x\": df.loc[:, (part, 'x')].to_numpy(),\n",
    "        \"y\": df.loc[:, (part, 'y')].to_numpy(),\n",
    "        \"likelihood\": df.loc[:, (part, 'likelihood')].to_numpy()\n",
    "    }\n",
    "\n",
    "for part in body_part_data.keys():\n",
    "    #print(f\"body parts: {part}\")\n",
    "    print(part)\n",
    "    \n",
    "    \n"
   ]
  },
  {
   "cell_type": "markdown",
   "metadata": {},
   "source": [
    "# Plot the data for the 'righteye' body part"
   ]
  },
  {
   "cell_type": "code",
   "execution_count": null,
   "metadata": {},
   "outputs": [],
   "source": [
    "fig, ax = plt.subplots()\n",
    "righteye_x = body_part_data['righteye']['x']\n",
    "righteye_y = body_part_data['righteye']['y']\n",
    "ax.scatter(righteye_x, righteye_y, label='righteye', alpha = 0.05)\n",
    "\n",
    "# Set the limits of the axes to fit the data\n",
    "ax.set_xlim([min(righteye_x), max(righteye_x)])\n",
    "ax.set_ylim([min(righteye_y), max(righteye_y)])\n",
    "\n",
    "# Invert the y-axis\n",
    "ax.invert_yaxis()\n",
    "\n",
    "plt.show()"
   ]
  },
  {
   "cell_type": "code",
   "execution_count": null,
   "metadata": {},
   "outputs": [],
   "source": [
    "\n",
    "\n",
    "\n",
    "\n",
    "\n",
    "\n",
    "def click_event(event, x, y, flags, params): \n",
    "  \n",
    "    # checking for left mouse clicks \n",
    "    if event == cv2.EVENT_LBUTTONDOWN: \n",
    "        coords.append([x,y])\n",
    "        # displaying the coordinates \n",
    "        # on the Shell \n",
    "        print(x, ' ', y) \n",
    "  \n",
    "        # displaying the coordinates \n",
    "        # on the image window \n",
    "        # font = cv2.FONT_HERSHEY_SIMPLEX \n",
    "        # cv2.putText(gray, str(x) + ',' +\n",
    "        #             str(y), (x,y), font, \n",
    "        #             1, (255, 0, 0), 2) \n",
    "        cv2.imshow('image', gray)\n",
    "  \n",
    "    # checking for right mouse clicks      \n",
    "    if event==cv2.EVENT_RBUTTONDOWN: \n",
    "  \n",
    "        # displaying the coordinates \n",
    "        # on the Shell \n",
    "        print(x, ' ', y) \n",
    "  \n",
    "        # displaying the coordinates \n",
    "        # on the image window \n",
    "        font = cv2.FONT_HERSHEY_SIMPLEX \n",
    "        b = gray[y, x, 0] \n",
    "        g = gray[y, x, 1] \n",
    "        r = gray[y, x, 2] \n",
    "        # cv2.putText(gray, str(b) + ',' +\n",
    "        #             str(g) + ',' + str(r), \n",
    "        #             (x,y), font, 1, \n",
    "        #             (255, 255, 0), 2) \n",
    "        cv2.imshow('image', gray) \n"
   ]
  },
  {
   "cell_type": "code",
   "execution_count": null,
   "metadata": {},
   "outputs": [],
   "source": [
    "import glob\n",
    "\n",
    "folder = r'C:\\Users\\custe\\Emory\\SOM Emanuel Lab - General\\TMAZE\\TMAZE_REFINED_VIDEOS'\n",
    "listOfVideos = glob.glob(folder+'\\\\*.mp4')"
   ]
  },
  {
   "cell_type": "code",
   "execution_count": null,
   "metadata": {},
   "outputs": [],
   "source": [
    "listOfVideos"
   ]
  },
  {
   "cell_type": "code",
   "execution_count": null,
   "metadata": {},
   "outputs": [],
   "source": [
    "# import numpy as np\n",
    "# import matplotlib.pyplot as plt\n",
    "# import cv2\n",
    "\n",
    "# # for video in listOfVideos:\n",
    "# vid = cv2.VideoCapture(r\"C:\\Users\\custe\\Emory\\SOM Emanuel Lab - General\\TMAZE\\TMAZE_REFINED_VIDEOS\\BDC32024-01-25T17_15_36.mp4\") #video\n",
    "# while (True): \n",
    "#     # Capture the video frame \n",
    "#     # by frame \n",
    "#     ret, frame = vid.read() \n",
    "#     gray = cv2.cvtColor(frame, cv2.COLOR_BGR2GRAY)\n",
    "#       # Display the resulting frame \n",
    "#     cv2.imshow('frame', frame) \n",
    "      \n",
    "\n",
    "#     if cv2.waitKey(1) & 0xFF == ord('q'): \n",
    "#         break\n",
    "\n",
    "# coords = []\n",
    "# cv2.imshow('image', gray)\n",
    "# cv2.setMouseCallback('image', click_event) \n",
    "# cv2.waitKey(0)\n",
    "# cv2.destroyAllWindows()"
   ]
  },
  {
   "cell_type": "code",
   "execution_count": null,
   "metadata": {},
   "outputs": [],
   "source": [
    "coords "
   ]
  },
  {
   "cell_type": "code",
   "execution_count": null,
   "metadata": {},
   "outputs": [],
   "source": [
    "\n",
    "\n",
    "gray = cv2.cvtColor(frame, cv2.COLOR_BGR2GRAY)\n",
    "\n",
    "\n",
    "\n",
    "plt.imshow(gray,cmap='gray')\n",
    "\n",
    "\n",
    "# plt.figure(figsize=(16,10))\n",
    "x = np.array(body_part_data['righteye']['x'])\n",
    "y = np.array(body_part_data['righteye']['y'])\n",
    "plt.scatter(x,y,3,color='r')\n",
    "plt.show()\n",
    "\n",
    "\n",
    "\n"
   ]
  },
  {
   "cell_type": "code",
   "execution_count": null,
   "metadata": {},
   "outputs": [],
   "source": [
    "body_part_data['righteye']['likelihood']"
   ]
  },
  {
   "cell_type": "code",
   "execution_count": null,
   "metadata": {},
   "outputs": [],
   "source": [
    "test = body_part_data['righteye']['x']#\n",
    "test[body_part_data['righteye']['likelihood'] < 0.95] = np.nan"
   ]
  },
  {
   "cell_type": "code",
   "execution_count": null,
   "metadata": {},
   "outputs": [],
   "source": [
    "plt.plot(body_part_data['righteye']['x'][:50])\n",
    "plt.plot(test[:50])"
   ]
  },
  {
   "cell_type": "code",
   "execution_count": null,
   "metadata": {},
   "outputs": [],
   "source": [
    "plt.plot(body_part_data['righteye']['likelihood'][:50])"
   ]
  },
  {
   "cell_type": "code",
   "execution_count": null,
   "metadata": {},
   "outputs": [],
   "source": [
    "trial_starts = [50, 75, 80, 200, 2500] ## when the door opens\n",
    "texture_contact_onset = [...] ## when the mouse crosses to the textured section\n",
    "\n",
    "\n",
    "trial_ends = [55, 79, 88, 213, 2580] ## when the mouse chooses a port"
   ]
  },
  {
   "cell_type": "code",
   "execution_count": null,
   "metadata": {},
   "outputs": [],
   "source": [
    "\n",
    "\n",
    "gray = cv2.cvtColor(img, cv2.COLOR_BGR2GRAY)\n",
    "\n",
    "\n",
    "\n",
    "plt.imshow(gray,cmap='gray')\n",
    "\n",
    "\n",
    "# plt.figure(figsize=(16,10))\n",
    "x = np.array(body_part_data['righteye']['x'])[50:77]\n",
    "y = np.array(body_part_data['righteye']['y'])[50:77]\n",
    "plt.plot(x,y)\n",
    "plt.show()\n",
    "\n",
    "\n",
    "\n"
   ]
  },
  {
   "cell_type": "code",
   "execution_count": null,
   "metadata": {},
   "outputs": [],
   "source": [
    "\n",
    "\n",
    "gray = cv2.cvtColor(img, cv2.COLOR_BGR2GRAY)\n",
    "\n",
    "\n",
    "\n",
    "plt.imshow(gray,cmap='gray')\n",
    "\n",
    "\n",
    "# plt.figure(figsize=(16,10))\n",
    "for trial in zip(trial_starts,trial_ends):\n",
    "\n",
    "\n",
    "    x = np.array(body_part_data['righteye']['x'])[trial[0]:trial[1]]\n",
    "    y = np.array(body_part_data['righteye']['y'])[trial[0]:trial[1]]\n",
    "    plt.plot(x,y)\n",
    "plt.show()\n",
    "\n",
    "\n"
   ]
  },
  {
   "cell_type": "code",
   "execution_count": null,
   "metadata": {},
   "outputs": [],
   "source": [
    "src = np.zeros(gray.shape, dtype=np.uint8)\n",
    "\n",
    "for i in range(len(coords)):\n",
    "    cv2.line(src, coords[i], coords[(i+1) % len(coords)], (255), 3)\n",
    "contours, _ = cv2.findContours(src, cv2.RETR_TREE, cv2.CHAIN_APPROX_SIMPLE)\n",
    "contour_img = gray.copy()\n",
    "cv2.drawContours(contour_img, contours, -1, (255, 0, 0), 2)  # (255, 0, 0) is blue in BGR\n",
    "\n",
    "# Plot the results\n",
    "plt.subplot(1, 3, 1)\n",
    "plt.imshow(gray, cmap='gray')\n",
    "plt.title('Original Grayscale Image')\n",
    "\n",
    "plt.subplot(1, 3, 2)\n",
    "plt.imshow(src, cmap='gray')\n",
    "plt.title('Image with Lines')\n",
    "\n",
    "plt.subplot(1, 3, 3)\n",
    "plt.imshow(contour_img, cmap='gray')\n",
    "plt.title('Contours on Original Image')\n",
    "\n"
   ]
  },
  {
   "cell_type": "code",
   "execution_count": null,
   "metadata": {},
   "outputs": [],
   "source": [
    "## identify videos\n",
    "folder = r'C:\\Users\\ajemanu\\Emory University\\SOM Emanuel Lab - General\\TMAZE\\TMAZE_REFINED_VIDEOS'\n",
    "listOfVideos = glob.glob(folder+'\\\\*.mp4')\n",
    "\n",
    "\n",
    "\n",
    "for video in listOfVideos:\n",
    "    print('On video {}'.format(video))\n",
    "    vid = cv2.VideoCapture(video) ##  video\n",
    "    ret, frame = vid.read() ## read first frame of video\n",
    "\n",
    "\n",
    "    fg = frame[:60,:60] ## door size is about 60x60 pixels\n",
    "    bg = frame ## first frame of video\n",
    "    bgCopy = bg.copy()\n",
    "    move_rectangle = False\n",
    "    BLUE = [255,0,0]\n",
    "    RED = [0,0,255]\n",
    "\n",
    "    initial_coords = {}\n",
    "    initial_coords['door1'] = [220, 148]\n",
    "    initial_coords['door2'] = [213, 448]\n",
    "    initial_coords['door3'] = [929, 661]\n",
    "    initial_coords['door4'] = [938, 46]\n",
    "\n",
    "    final_coords = {}\n",
    "\n",
    "    def mouse(event,x,y,flags,params):\n",
    "        global move_rectangle, BLUE, fg, bg, bgCopy,final_coords, door\n",
    "        #draw rectangle where x,y is rectangle center\n",
    "        if event == cv2.EVENT_LBUTTONDOWN:\n",
    "            move_rectangle = True\n",
    "\n",
    "        elif event == cv2.EVENT_MOUSEMOVE:\n",
    "            bg = bgCopy.copy() #!! your image is reinitialized with initial one\n",
    "            if move_rectangle:\n",
    "                cv2.rectangle(bg,(x-int(0.5*cols),y-int(0.5*rows)),\n",
    "                (x+int(0.5*cols),y+int(0.5*rows)),BLUE, -1)\n",
    "\n",
    "        elif event == cv2.EVENT_LBUTTONUP:\n",
    "            move_rectangle = False\n",
    "            cv2.rectangle(bg,(x-int(0.5*cols),y-int(0.5*rows)),\n",
    "            (x+int(0.5*cols),y+int(0.5*rows)),BLUE, -1)\n",
    "            final_coords[door] = [x,y]\n",
    "\n",
    "\n",
    "    def draw_initial_coord(k):\n",
    "        global bg, RED\n",
    "        cv2.rectangle(bg,(initial_coords[k][0]-int(0.5*cols),initial_coords[k][1]-int(0.5*rows)),\n",
    "        (initial_coords[k][0]+int(0.5*cols),initial_coords[k][1]+int(0.5*rows)),RED, -1)\n",
    "\n",
    "    def set_final_coords(k,x,y):\n",
    "        global final_coords\n",
    "        final_coords[k] = [x,y]\n",
    "\n",
    "\n",
    "    if __name__ == '__main__':\n",
    "        rows, cols = fg.shape[:2]\n",
    "\n",
    "\n",
    "\n",
    "        \n",
    "        for door in initial_coords.keys():\n",
    "            cv2.namedWindow('draw {}'.format(door))\n",
    "            cv2.setMouseCallback('draw {}'.format(door), mouse)\n",
    "            while True:\n",
    "                cv2.imshow('draw {}'.format(door), bg)\n",
    "                draw_initial_coord(door)\n",
    "                k = cv2.waitKey(1)\n",
    "                if k == 27 & 0xFF:\n",
    "                    break\n",
    "            cv2.destroyAllWindows()\n",
    "\n",
    "    for door in initial_coords:\n",
    "        try:\n",
    "            print(door,final_coords[door])\n",
    "        except KeyError:\n",
    "            final_coords[door] = initial_coords[door] ## if the door was not moved, use the initial coordinates\n",
    "            print(door,final_coords[door])"
   ]
  },
  {
   "cell_type": "code",
   "execution_count": 2,
   "metadata": {},
   "outputs": [
    {
     "ename": "",
     "evalue": "",
     "output_type": "error",
     "traceback": [
      "\u001b[1;31mCannot execute code, session has been disposed. Please try restarting the Kernel."
     ]
    },
    {
     "ename": "",
     "evalue": "",
     "output_type": "error",
     "traceback": [
      "\u001b[1;31mCannot execute code, session has been disposed. Please try restarting the Kernel. \n",
      "\u001b[1;31mView Jupyter <a href='command:jupyter.viewOutput'>log</a> for further details."
     ]
    }
   ],
   "source": [
    "import numpy as np\n",
    "import matplotlib.pyplot as plt\n",
    "import cv2\n",
    "import glob\n",
    "\n",
    "## identify videos\n",
    "folder = r'C:\\Users\\ajemanu\\Emory University\\SOM Emanuel Lab - General\\TMAZE\\TMAZE_REFINED_VIDEOS'\n",
    "listOfVideos = glob.glob(folder+'\\\\*.mp4')\n",
    "\n",
    "\n",
    "drawing = False\n",
    "ix,iy = -1,-1\n",
    "coords = []\n",
    "frameCounter = 0\n",
    "def draw_rectangle(event, x, y, flags, param):\n",
    "   global ix, iy, drawing, gray, coords\n",
    "   if event == cv2.EVENT_LBUTTONDOWN:\n",
    "      drawing = True\n",
    "      ix = x\n",
    "      iy = y\n",
    "   elif event == cv2.EVENT_LBUTTONUP:\n",
    "      drawing = False\n",
    "      cv2.rectangle(gray, (ix, iy),(x, y),(0, 255, 255),-1)\n",
    "      coords.append([ix, iy, x, y])\n",
    "\n",
    "for video in listOfVideos[1:2]:\n",
    "    print('On video {}'.format(video))\n",
    "    vid = cv2.VideoCapture(video) ##  video\n",
    "    ret, frame = vid.read() \n",
    "    gray = cv2.cvtColor(frame, cv2.COLOR_BGR2GRAY)\n",
    "    doorCoords = {}\n",
    "    for door in range(4):\n",
    "        windowName = 'Draw Door {}'.format(door)\n",
    "        cv2.namedWindow(windowName)\n",
    "        cv2.setMouseCallback(windowName,  draw_rectangle)\n",
    "\n",
    "        while True:\n",
    "            cv2.imshow(windowName, gray) \n",
    "            if cv2.waitKey(0):\n",
    "                break\n",
    "        cv2.destroyAllWindows()\n",
    "        doorCoords[door] = coords[-1]\n",
    "\n",
    "\n",
    "    doorTraces = {}\n",
    "    for door in range(4):\n",
    "        doorTraces[door] = []\n",
    "\n",
    "    # Convert the first frame to grayscale\n",
    "    gray1 = cv2.cvtColor(frame, cv2.COLOR_BGR2GRAY)\n",
    "    while True:\n",
    "        # Read the next frame\n",
    "        ret, frame2 = vid.read()\n",
    "        if not ret:\n",
    "            break\n",
    "\n",
    "        # Convert the current frame to grayscale\n",
    "        gray2 = cv2.cvtColor(frame2, cv2.COLOR_BGR2GRAY)\n",
    "    \n",
    "        # Compute the absolute difference between the current frame and the previous frame\n",
    "        diff = cv2.absdiff(gray1, gray2) \n",
    "\n",
    "        # Apply a threshold to get the binary image\n",
    "        _, thresh = cv2.threshold(diff, 5, 255, cv2.THRESH_BINARY)\n",
    "        \n",
    "        \n",
    "        doorImages = {}\n",
    "        for door in range(4):\n",
    "            doorImages[door] = thresh[doorCoords[door][1]:doorCoords[door][3], doorCoords[door][0]:doorCoords[door][2]]\n",
    "            \n",
    "        # Optional: Apply some morphological operations to reduce noise\n",
    "        # kernel = cv2.getStructuringElement(cv2.MORPH_ELLIPSE, (3, 3))\n",
    "        # thresh = cv2.morphologyEx(thresh, cv2.MORPH_CLOSE, kernel)\n",
    "\n",
    "        # Highlight the motion areas in the original frame\n",
    "        #motion_areas = cv2.bitwise_and(frame2, frame2, mask=thresh)\n",
    "\n",
    "        # # Display the original frame and the thresholded difference\n",
    "        # cv2.imshow('Original', frame2)\n",
    "        # cv2.imshow('Motion Detection', motion_areas)\n",
    "        \n",
    "        \n",
    "        \n",
    "        for door in range(4):\n",
    "            doorTraces[door].append(np.sum(doorImages[door]))\n",
    "    \n",
    "\n",
    "        # Update the previous frame\n",
    "        gray1 = gray2\n",
    "        frameCounter += 1\n",
    "        \n",
    "        if frameCounter % 200 == 0:\n",
    "            print('On frame {}'.format(frameCounter))\n",
    "        # Break the loop on 'q' key press\n",
    "        if cv2.waitKey(30) & 0xFF == ord('q'):\n",
    "            break\n",
    "\n",
    "    # Release the video capture object and close all OpenCV windows\n",
    "    vid.release()\n",
    "    cv2.destroyAllWindows()\n",
    "    \n",
    "    \n",
    "    ### save doorTraces\n",
    "    import pickle\n",
    "    with open(video.split('.')[0]+'_doorTraces.pkl', 'wb') as f:\n",
    "        pickle.dump(doorTraces, f, protocol=pickle.HIGHEST_PROTOCOL)\n"
   ]
  },
  {
   "cell_type": "code",
   "execution_count": null,
   "metadata": {},
   "outputs": [],
   "source": [
    "ind0, ind1 = 0, 2000\n",
    "\n",
    "\n",
    "f, ax = plt.subplots(4,1)\n",
    "ax[0].plot(doorTraces[0][ind0:ind1])\n",
    "ax[1].plot(doorTraces[1][ind0:ind1])\n",
    "ax[2].plot(doorTraces[2][ind0:ind1])\n",
    "ax[3].plot(doorTraces[3][ind0:ind1])\n",
    "\n",
    "for a in range(3):\n",
    "    ax[a].set_xticklabels([])\n",
    "    ax[a].set_xticks(np.arange(ind0-ind0, ind1-ind0, 100))\n",
    "ax[3].set_xlabel('Frames')\n",
    "ax[3].set_xticks(np.arange(ind0-ind0, ind1-ind0, 100))\n",
    "ax[3].set_xticklabels(np.arange(ind0, ind1, 100))\n"
   ]
  },
  {
   "cell_type": "code",
   "execution_count": null,
   "metadata": {},
   "outputs": [],
   "source": [
    "ax"
   ]
  },
  {
   "cell_type": "code",
   "execution_count": null,
   "metadata": {},
   "outputs": [],
   "source": [
    "door1 = np.array(doorTraces[0]) > 200000\n",
    "door2 = np.array(doorTraces[1]) > 200000\n",
    "door3 = np.array(doorTraces[2]) > 400000\n",
    "door4 = np.array(doorTraces[3]) > 400000"
   ]
  },
  {
   "cell_type": "code",
   "execution_count": null,
   "metadata": {},
   "outputs": [],
   "source": [
    "door1_filtered = np.zeros(len(door1),dtype=bool)\n",
    "for n in range(len(door1)):\n",
    "    try:\n",
    "        if door1[n+1] or door1[n]:\n",
    "            door1_filtered[n:n+2] = True\n",
    "    except:\n",
    "        pass\n",
    "        \n",
    "door2_filtered = np.zeros(len(door2),dtype=bool)\n",
    "for n in range(len(door2)):\n",
    "    try:\n",
    "        if door2[n+1] or door2[n]:\n",
    "            door2_filtered[n:n+2] = True\n",
    "    except:\n",
    "        pass\n",
    "\n",
    "door3_filtered = np.zeros(len(door3),dtype=bool)\n",
    "for n in range(len(door3)):\n",
    "    try:\n",
    "        if door3[n+1] or door3[n]:\n",
    "            door3_filtered[n:n+2] = True\n",
    "    except:\n",
    "        pass\n",
    "\n",
    "door4_filtered = np.zeros(len(door4),dtype=bool)\n",
    "for n in range(len(door4)):\n",
    "    try:\n",
    "        if door4[n+1] or door4[n]:\n",
    "            door4_filtered[n:n+2] = True\n",
    "    except:\n",
    "        pass"
   ]
  },
  {
   "cell_type": "code",
   "execution_count": null,
   "metadata": {},
   "outputs": [],
   "source": [
    "door1_filtered"
   ]
  },
  {
   "cell_type": "code",
   "execution_count": null,
   "metadata": {},
   "outputs": [],
   "source": [
    "bothDoorsChanging12 = np.bitwise_and(door1_filtered,door2_filtered)\n",
    "bothDoorsChanging34 = np.bitwise_and(door3_filtered,door4_filtered)"
   ]
  },
  {
   "cell_type": "code",
   "execution_count": null,
   "metadata": {},
   "outputs": [],
   "source": [
    "doors12_change_frame = np.where(bothDoorsChanging12[1:] > bothDoorsChanging12[:-1])[0]\n",
    "doors34_change_frame = np.where(bothDoorsChanging34[1:] > bothDoorsChanging34[:-1])[0]"
   ]
  },
  {
   "cell_type": "code",
   "execution_count": null,
   "metadata": {},
   "outputs": [],
   "source": [
    "doors34_change_frame.shape"
   ]
  },
  {
   "cell_type": "code",
   "execution_count": null,
   "metadata": {},
   "outputs": [],
   "source": [
    "print(doors12_change_frame.shape,doors34_change_frame.shape)"
   ]
  },
  {
   "cell_type": "code",
   "execution_count": null,
   "metadata": {},
   "outputs": [],
   "source": [
    "doors12_open_frame = doors12_change_frame[::2]\n",
    "doors12_close_frame = doors12_change_frame[1::2]\n",
    "doors34_open_frame = doors34_change_frame[::2]\n",
    "doors34_close_frame = doors34_change_frame[1::2]"
   ]
  },
  {
   "cell_type": "code",
   "execution_count": null,
   "metadata": {},
   "outputs": [],
   "source": [
    "trial_starts = doors12_open_frame\n",
    "trial_ends = doors34_open_frame"
   ]
  },
  {
   "cell_type": "code",
   "execution_count": null,
   "metadata": {},
   "outputs": [],
   "source": [
    "plt.hist(trial_ends/30 - trial_starts/30,np.arange(0,40,0.5))\n",
    "\n",
    "plt.xlabel('Trial Duration (s)')"
   ]
  },
  {
   "cell_type": "code",
   "execution_count": null,
   "metadata": {},
   "outputs": [],
   "source": [
    "dlc_dict = pd.read_hdf(r\"C:\\Users\\ajemanu\\Emory University\\SOM Emanuel Lab - General\\TMAZE\\TMAZE_REFINED_VIDEOS\\BDC32024-01-23T15_50_51DLC_resnet50_TMAZE DLC model May14shuffle1_300000_filtered.h5\")"
   ]
  },
  {
   "cell_type": "code",
   "execution_count": null,
   "metadata": {},
   "outputs": [],
   "source": [
    "righteye = dlc_dict['DLC_resnet50_TMAZE DLC model May14shuffle1_300000']['righteye']\n",
    "lefteye = dlc_dict['DLC_resnet50_TMAZE DLC model May14shuffle1_300000']['lefteye']\n",
    "tailbase = dlc_dict['DLC_resnet50_TMAZE DLC model May14shuffle1_300000']['tailbase']\n",
    "\n",
    "righteye_filtered = np.copy(righteye)\n",
    "righteye_filtered[righteye['likelihood'] < 0.15] = np.nan\n",
    "\n",
    "lefteye_filtered = np.copy(lefteye)\n",
    "lefteye_filtered[lefteye['likelihood'] < 0.15] = np.nan\n",
    "\n",
    "tailbase_filtered = np.copy(tailbase)\n",
    "tailbase_filtered[tailbase['likelihood'] < 0.15] = np.nan"
   ]
  },
  {
   "cell_type": "code",
   "execution_count": null,
   "metadata": {},
   "outputs": [],
   "source": [
    "plt.plot(righteye_filtered[:,0],righteye_filtered[:,1])"
   ]
  },
  {
   "cell_type": "markdown",
   "metadata": {},
   "source": [
    "append the trajectory to json file dic"
   ]
  },
  {
   "cell_type": "code",
   "execution_count": null,
   "metadata": {},
   "outputs": [],
   "source": [
    "trial_starts"
   ]
  },
  {
   "cell_type": "code",
   "execution_count": null,
   "metadata": {},
   "outputs": [],
   "source": [
    "for trial in range(100):\n",
    "    plt.figure()\n",
    "    plt.imshow(frame,cmap='gray')\n",
    "    plt.plot(righteye_filtered[trial_starts[trial]:trial_ends[trial],0],righteye_filtered[trial_starts[trial]:trial_ends[trial],1])\n",
    "    plt.plot(lefteye_filtered[trial_starts[trial]:trial_ends[trial],0],lefteye_filtered[trial_starts[trial]:trial_ends[trial],1])\n",
    "    plt.plot(tailbase_filtered[trial_starts[trial]:trial_ends[trial],0],tailbase_filtered[trial_starts[trial]:trial_ends[trial],1])\n",
    "    plt.title('Trial {}'.format(trial+1))\n",
    "    plt.show()\n",
    "    plt.close()\n"
   ]
  },
  {
   "cell_type": "code",
   "execution_count": null,
   "metadata": {},
   "outputs": [],
   "source": [
    "trial_starts[84]/30/60, trial_ends[84]/30/60"
   ]
  },
  {
   "cell_type": "code",
   "execution_count": null,
   "metadata": {},
   "outputs": [],
   "source": []
  }
 ],
 "metadata": {
  "kernelspec": {
   "display_name": "Python 3",
   "language": "python",
   "name": "python3"
  },
  "language_info": {
   "codemirror_mode": {
    "name": "ipython",
    "version": 3
   },
   "file_extension": ".py",
   "mimetype": "text/x-python",
   "name": "python",
   "nbconvert_exporter": "python",
   "pygments_lexer": "ipython3",
   "version": "3.10.11"
  }
 },
 "nbformat": 4,
 "nbformat_minor": 2
}
